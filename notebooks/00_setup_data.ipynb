{
 "cells": [
  {
   "cell_type": "markdown",
   "metadata": {},
   "source": [
    "---\n",
    "title: Setting up data\n",
    "author: Benjamin Doran\n",
    "date: Dec 2023\n",
    "---"
   ]
  },
  {
   "cell_type": "code",
   "execution_count": 1,
   "metadata": {},
   "outputs": [
    {
     "data": {
      "text/plain": [
       "show_svg (generic function with 1 method)"
      ]
     },
     "metadata": {},
     "output_type": "display_data"
    }
   ],
   "source": [
    "# setup for local file handling\n",
    "using DrWatson\n",
    "@quickactivate projectdir()\n",
    "\n",
    "# load extra libraries\n",
    "using CSV, DataFrames, Muon, MAT\n",
    "using StatsBase\n",
    "include(srcdir(\"helpers.jl\"))"
   ]
  },
  {
   "cell_type": "code",
   "execution_count": 2,
   "metadata": {},
   "outputs": [
    {
     "data": {
      "text/plain": [
       "\"/Users/bend/projects/Doran_etal_2023/data/exp_raw/UP7047\""
      ]
     },
     "metadata": {},
     "output_type": "display_data"
    }
   ],
   "source": [
    "bbdir = datadir(\"exp_raw\", \"BB669\")\n",
    "updir = datadir(\"exp_raw\", \"UP7047\")"
   ]
  },
  {
   "cell_type": "markdown",
   "metadata": {},
   "source": [
    "## Read in the UniProt data and associated metadata. \n",
    "\n",
    "The main data is a count matrix of 7047 bacterial strains described by 10,177 Orthologous Gene Groups (OGGs). Each element of the matrix shows the number (count) of sequences in the strain that belong to that OGG. Along with this are associated metadata for each strain and each orthologous gene group. "
   ]
  },
  {
   "cell_type": "code",
   "execution_count": 4,
   "metadata": {},
   "outputs": [
    {
     "data": {
      "text/plain": [
       "AnnData object 7047 ✕ 10177"
      ]
     },
     "metadata": {},
     "output_type": "display_data"
    }
   ],
   "source": [
    "uniprot = readh5ad(joinpath(updir, \"2020_02_UP7047.h5ad\"))"
   ]
  },
  {
   "cell_type": "code",
   "execution_count": 5,
   "metadata": {},
   "outputs": [
    {
     "data": {
      "text/plain": [
       "5×5 adjoint(::Matrix{Float64}) with eltype Float64:\n",
       " 1.0  0.0  1.0  2.0  1.0\n",
       " 1.0  0.0  1.0  2.0  0.0\n",
       " 1.0  0.0  1.0  3.0  1.0\n",
       " 0.0  0.0  0.0  0.0  0.0\n",
       " 1.0  0.0  1.0  2.0  0.0"
      ]
     },
     "metadata": {},
     "output_type": "display_data"
    }
   ],
   "source": [
    "# count matrix\n",
    "uniprot.X[1:5, 1:5]"
   ]
  },
  {
   "cell_type": "code",
   "execution_count": 6,
   "metadata": {},
   "outputs": [
    {
     "data": {
      "text/html": [
       "<div><div style = \"float: left;\"><span>5×18 DataFrame</span></div><div style = \"clear: both;\"></div></div><div class = \"data-frame\" style = \"overflow-x: scroll;\"><table class = \"data-frame\" style = \"margin-bottom: 6px;\"><thead><tr class = \"header\"><th class = \"rowNumber\" style = \"font-weight: bold; text-align: right;\">Row</th><th style = \"text-align: left;\">proteomeID</th><th style = \"text-align: left;\">TaxID</th><th style = \"text-align: left;\">Proteome_ID</th><th style = \"text-align: left;\">Tax_ID</th><th style = \"text-align: left;\">OSCODE</th><th style = \"text-align: left;\">SUPERREGNUM</th><th style = \"text-align: left;\">x__1_</th><th style = \"text-align: left;\">x__2_</th><th style = \"text-align: left;\">x__3_</th><th style = \"text-align: left;\">SpeciesName</th><th style = \"text-align: left;\">Kingdom</th><th style = \"text-align: left;\">Phylum</th><th style = \"text-align: left;\">Class</th><th style = \"text-align: left;\">Order</th><th style = \"text-align: left;\">Family</th><th style = \"text-align: left;\">Genus</th><th style = \"text-align: left;\">Species</th><th style = \"text-align: left;\">order</th></tr><tr class = \"subheader headerLastRow\"><th class = \"rowNumber\" style = \"font-weight: bold; text-align: right;\"></th><th title = \"String\" style = \"text-align: left;\">String</th><th title = \"Int64\" style = \"text-align: left;\">Int64</th><th title = \"String\" style = \"text-align: left;\">String</th><th title = \"Int64\" style = \"text-align: left;\">Int64</th><th title = \"String\" style = \"text-align: left;\">String</th><th title = \"String\" style = \"text-align: left;\">String</th><th title = \"Int64\" style = \"text-align: left;\">Int64</th><th title = \"Int64\" style = \"text-align: left;\">Int64</th><th title = \"Int64\" style = \"text-align: left;\">Int64</th><th title = \"String\" style = \"text-align: left;\">String</th><th title = \"String\" style = \"text-align: left;\">String</th><th title = \"String\" style = \"text-align: left;\">String</th><th title = \"String\" style = \"text-align: left;\">String</th><th title = \"String\" style = \"text-align: left;\">String</th><th title = \"String\" style = \"text-align: left;\">String</th><th title = \"String\" style = \"text-align: left;\">String</th><th title = \"String\" style = \"text-align: left;\">String</th><th title = \"Int64\" style = \"text-align: left;\">Int64</th></tr></thead><tbody><tr><td class = \"rowNumber\" style = \"font-weight: bold; text-align: right;\">1</td><td style = \"text-align: left;\">UP000283387</td><td style = \"text-align: right;\">1261403</td><td style = \"text-align: left;\">UP000283387</td><td style = \"text-align: right;\">1261403</td><td style = \"text-align: left;\"></td><td style = \"text-align: left;\">bacteria</td><td style = \"text-align: right;\">4641</td><td style = \"text-align: right;\">0</td><td style = \"text-align: right;\">4643</td><td style = \"text-align: left;\">Mangrovibacterium diazotrophicum</td><td style = \"text-align: left;\">Bacteria</td><td style = \"text-align: left;\">Bacteroidetes</td><td style = \"text-align: left;\">Bacteroidia</td><td style = \"text-align: left;\">Marinilabiliales</td><td style = \"text-align: left;\">Prolixibacteraceae</td><td style = \"text-align: left;\">Mangrovibacterium</td><td style = \"text-align: left;\">Mangrovibacterium diazotrophicum</td><td style = \"text-align: right;\">3264</td></tr><tr><td class = \"rowNumber\" style = \"font-weight: bold; text-align: right;\">2</td><td style = \"text-align: left;\">UP000181985</td><td style = \"text-align: right;\">1897729</td><td style = \"text-align: left;\">UP000181985</td><td style = \"text-align: right;\">1897729</td><td style = \"text-align: left;\"></td><td style = \"text-align: left;\">bacteria</td><td style = \"text-align: right;\">3147</td><td style = \"text-align: right;\">0</td><td style = \"text-align: right;\">3150</td><td style = \"text-align: left;\">Halomonas aestuarii</td><td style = \"text-align: left;\">Bacteria</td><td style = \"text-align: left;\">Proteobacteria</td><td style = \"text-align: left;\">Gammaproteobacteria</td><td style = \"text-align: left;\">Oceanospirillales</td><td style = \"text-align: left;\">Halomonadaceae</td><td style = \"text-align: left;\">Halomonas</td><td style = \"text-align: left;\">Halomonas aestuarii</td><td style = \"text-align: right;\">2026</td></tr><tr><td class = \"rowNumber\" style = \"font-weight: bold; text-align: right;\">3</td><td style = \"text-align: left;\">UP000220675</td><td style = \"text-align: right;\">1962403</td><td style = \"text-align: left;\">UP000220675</td><td style = \"text-align: right;\">1962403</td><td style = \"text-align: left;\"></td><td style = \"text-align: left;\">bacteria</td><td style = \"text-align: right;\">4593</td><td style = \"text-align: right;\">0</td><td style = \"text-align: right;\">4595</td><td style = \"text-align: left;\">Novosphingobium sp. PC22D</td><td style = \"text-align: left;\">Bacteria</td><td style = \"text-align: left;\">Proteobacteria</td><td style = \"text-align: left;\">Alphaproteobacteria</td><td style = \"text-align: left;\">Sphingomonadales</td><td style = \"text-align: left;\">Sphingomonadaceae</td><td style = \"text-align: left;\">Novosphingobium</td><td style = \"text-align: left;\">Novosphingobium sp. PC22D</td><td style = \"text-align: right;\">519</td></tr><tr><td class = \"rowNumber\" style = \"font-weight: bold; text-align: right;\">4</td><td style = \"text-align: left;\">UP000013137</td><td style = \"text-align: right;\">1188234</td><td style = \"text-align: left;\">UP000013137</td><td style = \"text-align: right;\">1188234</td><td style = \"text-align: left;\"></td><td style = \"text-align: left;\">bacteria</td><td style = \"text-align: right;\">601</td><td style = \"text-align: right;\">0</td><td style = \"text-align: right;\">601</td><td style = \"text-align: left;\">Mycoplasma alkalescens 14918</td><td style = \"text-align: left;\">Bacteria</td><td style = \"text-align: left;\">Tenericutes</td><td style = \"text-align: left;\">Mollicutes</td><td style = \"text-align: left;\">Mycoplasmatales</td><td style = \"text-align: left;\">Mycoplasmataceae</td><td style = \"text-align: left;\">Mycoplasma</td><td style = \"text-align: left;\">Mycoplasma alkalescens</td><td style = \"text-align: right;\">4272</td></tr><tr><td class = \"rowNumber\" style = \"font-weight: bold; text-align: right;\">5</td><td style = \"text-align: left;\">UP000067399</td><td style = \"text-align: right;\">1303921</td><td style = \"text-align: left;\">UP000067399</td><td style = \"text-align: right;\">1303921</td><td style = \"text-align: left;\"></td><td style = \"text-align: left;\">bacteria</td><td style = \"text-align: right;\">1467</td><td style = \"text-align: right;\">0</td><td style = \"text-align: right;\">1471</td><td style = \"text-align: left;\">endosymbiont of Bathymodiolus septemdierum str. Myojin knoll</td><td style = \"text-align: left;\">Bacteria</td><td style = \"text-align: left;\">Proteobacteria</td><td style = \"text-align: left;\">Gammaproteobacteria</td><td style = \"text-align: left;\"></td><td style = \"text-align: left;\"></td><td style = \"text-align: left;\"></td><td style = \"text-align: left;\">Bathymodiolus septemdierum thioautotrophic gill symbiont</td><td style = \"text-align: right;\">1170</td></tr></tbody></table></div>"
      ],
      "text/latex": [
       "\\begin{tabular}{r|cccccccccc}\n",
       "\t& proteomeID & TaxID & Proteome\\_ID & Tax\\_ID & OSCODE & SUPERREGNUM & x\\_\\_1\\_ & x\\_\\_2\\_ & x\\_\\_3\\_ & \\\\\n",
       "\t\\hline\n",
       "\t& String & Int64 & String & Int64 & String & String & Int64 & Int64 & Int64 & \\\\\n",
       "\t\\hline\n",
       "\t1 & UP000283387 & 1261403 & UP000283387 & 1261403 &  & bacteria & 4641 & 0 & 4643 & $\\dots$ \\\\\n",
       "\t2 & UP000181985 & 1897729 & UP000181985 & 1897729 &  & bacteria & 3147 & 0 & 3150 & $\\dots$ \\\\\n",
       "\t3 & UP000220675 & 1962403 & UP000220675 & 1962403 &  & bacteria & 4593 & 0 & 4595 & $\\dots$ \\\\\n",
       "\t4 & UP000013137 & 1188234 & UP000013137 & 1188234 &  & bacteria & 601 & 0 & 601 & $\\dots$ \\\\\n",
       "\t5 & UP000067399 & 1303921 & UP000067399 & 1303921 &  & bacteria & 1467 & 0 & 1471 & $\\dots$ \\\\\n",
       "\\end{tabular}\n"
      ],
      "text/plain": [
       "\u001b[1m5×18 DataFrame\u001b[0m\n",
       "\u001b[1m Row \u001b[0m│\u001b[1m proteomeID  \u001b[0m\u001b[1m TaxID   \u001b[0m\u001b[1m Proteome_ID \u001b[0m\u001b[1m Tax_ID  \u001b[0m\u001b[1m OSCODE \u001b[0m\u001b[1m SUPERREGNUM \u001b[0m\u001b[1m x__1_ \u001b[0m\u001b[1m\u001b[0m ⋯\n",
       "     │\u001b[90m String      \u001b[0m\u001b[90m Int64   \u001b[0m\u001b[90m String      \u001b[0m\u001b[90m Int64   \u001b[0m\u001b[90m String \u001b[0m\u001b[90m String      \u001b[0m\u001b[90m Int64 \u001b[0m\u001b[90m\u001b[0m ⋯\n",
       "─────┼──────────────────────────────────────────────────────────────────────────\n",
       "   1 │ UP000283387  1261403  UP000283387  1261403          bacteria      4641  ⋯\n",
       "   2 │ UP000181985  1897729  UP000181985  1897729          bacteria      3147\n",
       "   3 │ UP000220675  1962403  UP000220675  1962403          bacteria      4593\n",
       "   4 │ UP000013137  1188234  UP000013137  1188234          bacteria       601\n",
       "   5 │ UP000067399  1303921  UP000067399  1303921          bacteria      1467  ⋯\n",
       "\u001b[36m                                                              11 columns omitted\u001b[0m"
      ]
     },
     "metadata": {},
     "output_type": "display_data"
    }
   ],
   "source": [
    "first(uniprot.obs, 5)"
   ]
  },
  {
   "cell_type": "code",
   "execution_count": 7,
   "metadata": {},
   "outputs": [
    {
     "data": {
      "text/html": [
       "<div><div style = \"float: left;\"><span>5×6 DataFrame</span></div><div style = \"clear: both;\"></div></div><div class = \"data-frame\" style = \"overflow-x: scroll;\"><table class = \"data-frame\" style = \"margin-bottom: 6px;\"><thead><tr class = \"header\"><th class = \"rowNumber\" style = \"font-weight: bold; text-align: right;\">Row</th><th style = \"text-align: left;\">og</th><th style = \"text-align: left;\">level</th><th style = \"text-align: left;\">nm</th><th style = \"text-align: left;\">description</th><th style = \"text-align: left;\">COG_categories</th><th style = \"text-align: left;\">OG_ID</th></tr><tr class = \"subheader headerLastRow\"><th class = \"rowNumber\" style = \"font-weight: bold; text-align: right;\"></th><th title = \"String\" style = \"text-align: left;\">String</th><th title = \"Int64\" style = \"text-align: left;\">Int64</th><th title = \"Int64\" style = \"text-align: left;\">Int64</th><th title = \"String\" style = \"text-align: left;\">String</th><th title = \"String\" style = \"text-align: left;\">String</th><th title = \"String\" style = \"text-align: left;\">String</th></tr></thead><tbody><tr><td class = \"rowNumber\" style = \"font-weight: bold; text-align: right;\">1</td><td style = \"text-align: left;\">COG0001</td><td style = \"text-align: right;\">2</td><td style = \"text-align: right;\">4694</td><td style = \"text-align: left;\">glutamate-1-semialdehyde 2,1-aminomutase activity</td><td style = \"text-align: left;\">H</td><td style = \"text-align: left;\">COG0001@2</td></tr><tr><td class = \"rowNumber\" style = \"font-weight: bold; text-align: right;\">2</td><td style = \"text-align: left;\">COG0003</td><td style = \"text-align: right;\">2</td><td style = \"text-align: right;\">2423</td><td style = \"text-align: left;\">Pfam Anion-transporting ATPase</td><td style = \"text-align: left;\">P</td><td style = \"text-align: left;\">COG0003@2</td></tr><tr><td class = \"rowNumber\" style = \"font-weight: bold; text-align: right;\">3</td><td style = \"text-align: left;\">COG0002</td><td style = \"text-align: right;\">2</td><td style = \"text-align: right;\">3957</td><td style = \"text-align: left;\">N-acetyl-gamma-glutamyl-phosphate reductase activity</td><td style = \"text-align: left;\">E</td><td style = \"text-align: left;\">COG0002@2</td></tr><tr><td class = \"rowNumber\" style = \"font-weight: bold; text-align: right;\">4</td><td style = \"text-align: left;\">COG0004</td><td style = \"text-align: right;\">2</td><td style = \"text-align: right;\">5256</td><td style = \"text-align: left;\">ammonium transporteR</td><td style = \"text-align: left;\">P</td><td style = \"text-align: left;\">COG0004@2</td></tr><tr><td class = \"rowNumber\" style = \"font-weight: bold; text-align: right;\">5</td><td style = \"text-align: left;\">COG0005</td><td style = \"text-align: right;\">2</td><td style = \"text-align: right;\">3783</td><td style = \"text-align: left;\">purine-nucleoside phosphorylase activity</td><td style = \"text-align: left;\">F</td><td style = \"text-align: left;\">COG0005@2</td></tr></tbody></table></div>"
      ],
      "text/latex": [
       "\\begin{tabular}{r|cccccc}\n",
       "\t& og & level & nm & description & COG\\_categories & \\\\\n",
       "\t\\hline\n",
       "\t& String & Int64 & Int64 & String & String & \\\\\n",
       "\t\\hline\n",
       "\t1 & COG0001 & 2 & 4694 & glutamate-1-semialdehyde 2,1-aminomutase activity & H & $\\dots$ \\\\\n",
       "\t2 & COG0003 & 2 & 2423 & Pfam Anion-transporting ATPase & P & $\\dots$ \\\\\n",
       "\t3 & COG0002 & 2 & 3957 & N-acetyl-gamma-glutamyl-phosphate reductase activity & E & $\\dots$ \\\\\n",
       "\t4 & COG0004 & 2 & 5256 & ammonium transporteR & P & $\\dots$ \\\\\n",
       "\t5 & COG0005 & 2 & 3783 & purine-nucleoside phosphorylase activity & F & $\\dots$ \\\\\n",
       "\\end{tabular}\n"
      ],
      "text/plain": [
       "\u001b[1m5×6 DataFrame\u001b[0m\n",
       "\u001b[1m Row \u001b[0m│\u001b[1m og      \u001b[0m\u001b[1m level \u001b[0m\u001b[1m nm    \u001b[0m\u001b[1m description                       \u001b[0m\u001b[1m COG_categorie\u001b[0m ⋯\n",
       "     │\u001b[90m String  \u001b[0m\u001b[90m Int64 \u001b[0m\u001b[90m Int64 \u001b[0m\u001b[90m String                            \u001b[0m\u001b[90m String       \u001b[0m ⋯\n",
       "─────┼──────────────────────────────────────────────────────────────────────────\n",
       "   1 │ COG0001      2   4694  glutamate-1-semialdehyde 2,1-ami…  H             ⋯\n",
       "   2 │ COG0003      2   2423  Pfam Anion-transporting ATPase     P\n",
       "   3 │ COG0002      2   3957  N-acetyl-gamma-glutamyl-phosphat…  E\n",
       "   4 │ COG0004      2   5256  ammonium transporteR               P\n",
       "   5 │ COG0005      2   3783  purine-nucleoside phosphorylase …  F             ⋯\n",
       "\u001b[36m                                                               2 columns omitted\u001b[0m"
      ]
     },
     "metadata": {},
     "output_type": "display_data"
    }
   ],
   "source": [
    "first(uniprot.var, 5)"
   ]
  },
  {
   "cell_type": "markdown",
   "metadata": {},
   "source": [
    "## Read in Biobank data & make unified dataset\n",
    "\n",
    "The BioBank (aka: Commensal Strain Bank, aka: CSB) is the strain bank we collected. \n",
    "It comprises 669 strains that have at least 1% distinct sequence identity to any other strain in the BioBank (i.e. we removed clonal duplicates).\n",
    "\n",
    "All these strains were whole genome sequenced. And from that sequencing we annotated each strain by orthologous gene groups (OGG). \n",
    "This annotation was done for each strain by counting the number of coding regions that matched to each orthologous gene groups in the eggNOG database (v5.0) database and filtering out gene-groups that had no matches.\n",
    "This created the matrix in `BB669_oggs.mat` where strains correspond to each row and OGGs correspond to each column and each entry holds the number of protein sequences that matched to that OGG.\n",
    "\n",
    "We also measured the metabolic phenotype of these strains across a number of short-chain fatty acids and other small molecules.\n",
    "The file `B669_metabolites_foldchange.csv` contains the measurements we use in this paper, where each row contains a strain and the columns contain metabolite compounds the strains either digest or produce. \n",
    "The degree of digestion or production of each metabolite is compared as the ratio between the relative concentration of the compound in media cultured with the strain versus blank media without any strain. We take the log2 transform of this ratio and report the log2-fold-change (log2FC) as our measure of metabolic activity."
   ]
  },
  {
   "cell_type": "code",
   "execution_count": null,
   "metadata": {},
   "outputs": [],
   "source": [
    "BB669_ogg_data = matread(joinpath(bbdir, \"BB669_oggs.mat\"))\n",
    "metadata = CSV.read(joinpath(bbdir, \"BB669_rowmeta.tsv\"), DataFrame; delim=\"\\t\", normalizenames=true)\n",
    "metabolite_df = CSV.read(joinpath(bbdir, \"BB669_metabolites_foldchange.csv\"), DataFrame)\n",
    "metabolite_labels = replace.(names(metabolite_df), \"_rel\"=>\"\")[3:end]\n",
    "rename!(metabolite_df, names(metabolite_df) .=> CSV.normalizename.(names(metabolite_df)));"
   ]
  },
  {
   "cell_type": "code",
   "execution_count": 10,
   "metadata": {},
   "outputs": [],
   "source": [
    "#= \n",
    "    use function in helpers.jl to match measured orthologs in our strain bank \n",
    "    to those measured in UniProt bacteria.\n",
    "=#\n",
    "BBoggs_UPorder = match_column_order(\n",
    "    BB669_ogg_data[\"data\"], \n",
    "    BB669_ogg_data[\"var_names\"], \n",
    "    uniprot.var_names\n",
    ");"
   ]
  },
  {
   "cell_type": "code",
   "execution_count": 11,
   "metadata": {},
   "outputs": [
    {
     "data": {
      "text/plain": [
       "11-element Vector{String}:\n",
       " \"Phocaeicola vulgatus\"\n",
       " \"[Ruminococcus] gnavus\"\n",
       " \"Bacteroides thetaiotaomicron\"\n",
       " \"Anaerostipes hadrus\"\n",
       " \"Bacteroides uniformis\"\n",
       " \"Blautia luti\"\n",
       " \"Bifidobacterium breve\"\n",
       " \"Coprococcus comes\"\n",
       " \"Dorea formicigenerans\"\n",
       " \"Blautia wexlerae\"\n",
       " \"[Eubacterium] rectale\""
      ]
     },
     "metadata": {},
     "output_type": "display_data"
    }
   ],
   "source": [
    "# this finds all species with at least 20 strain replicates in the dataset\n",
    "# this subset of species are those we statistically test for strain level differences later on\n",
    "keptspecies = string.(keys(sort(filter(x-> last(x) >= 20, countmap(metadata.Species)), byvalue=true, rev=true)))\n",
    "filter!(!=(\"unclassified\"), keptspecies)\n",
    "keptspecies_mask = in.(metadata.Species, Ref(keptspecies));\n",
    "keptspecies # species with at least 20 replicates in the dataset"
   ]
  },
  {
   "cell_type": "markdown",
   "metadata": {},
   "source": [
    "Create unified file for future analysis, this will be easier to load in later notebooks"
   ]
  },
  {
   "cell_type": "code",
   "execution_count": 12,
   "metadata": {},
   "outputs": [
    {
     "name": "stderr",
     "output_type": "stream",
     "text": [
      "┌ Warning: Cannot join columns with the same name because var_names are intersecting.\n",
      "└ @ Muon /Users/bend/.julia/packages/Muon/eLqpV/src/mudata.jl:351\n"
     ]
    },
    {
     "data": {
      "text/plain": [
       "MuData object 669 ✕ 21475\n",
       "└ metabolites_foldchange\n",
       "  AnnData object 669 ✕ 50\n",
       "└ oggs\n",
       "  AnnData object 669 ✕ 11248\n",
       "└ UPorder_oggs\n",
       "  AnnData object 669 ✕ 10177"
      ]
     },
     "metadata": {},
     "output_type": "display_data"
    }
   ],
   "source": [
    "biobank_ogg = AnnData(\n",
    "    X=BB669_ogg_data[\"data\"],\n",
    "    obs_names=string.(BB669_ogg_data[\"obs_names\"]),\n",
    "    var_names=string.(BB669_ogg_data[\"var_names\"])\n",
    ")\n",
    "biobank_ogg_UP = AnnData(\n",
    "    X=BBoggs_UPorder,\n",
    "    obs_names=string.(BB669_ogg_data[\"obs_names\"]),\n",
    "    var_names=uniprot.var_names\n",
    ")\n",
    "biobank_met = AnnData(\n",
    "    X=log2.(Matrix(coalesce.(metabolite_df[:, 3:end], NaN))),\n",
    "    obs_names=metabolite_df[:, :ID],\n",
    "    var_names=names(metabolite_df)[3:end],\n",
    "    var=DataFrame(ID=names(metabolite_df)[3:end], label=metabolite_labels)\n",
    ")\n",
    "biobank_met.layers[\"raw\"] = Matrix(coalesce.(metabolite_df[:, 3:end], NaN))\n",
    "biobank = MuData(mod=Dict(\n",
    "    \"oggs\" => biobank_ogg,\n",
    "    \"UPorder_oggs\" => biobank_ogg_UP,\n",
    "    \"metabolites_foldchange\" => biobank_met,\n",
    "))\n",
    "biobank.obs = insertcols(String.(metadata), :kept_species=>keptspecies_mask)\n",
    "biobank"
   ]
  },
  {
   "cell_type": "code",
   "execution_count": 13,
   "metadata": {},
   "outputs": [],
   "source": [
    "writeh5mu(joinpath(bbdir, \"BB669.h5mu\"), biobank)"
   ]
  },
  {
   "cell_type": "code",
   "execution_count": 14,
   "metadata": {},
   "outputs": [],
   "source": []
  }
 ],
 "metadata": {
  "kernelspec": {
   "display_name": "Julia 1.10.0",
   "language": "julia",
   "name": "julia-1.10"
  },
  "language_info": {
   "file_extension": ".jl",
   "mimetype": "application/julia",
   "name": "julia",
   "version": "1.10.0"
  }
 },
 "nbformat": 4,
 "nbformat_minor": 2
}
